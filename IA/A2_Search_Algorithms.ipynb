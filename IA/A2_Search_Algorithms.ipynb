{
  "nbformat": 4,
  "nbformat_minor": 0,
  "metadata": {
    "kernelspec": {
      "display_name": "Python 3",
      "language": "python",
      "name": "python3"
    },
    "language_info": {
      "codemirror_mode": {
        "name": "ipython",
        "version": 3
      },
      "file_extension": ".py",
      "mimetype": "text/x-python",
      "name": "python",
      "nbconvert_exporter": "python",
      "pygments_lexer": "ipython3",
      "version": "3.7.4"
    },
    "colab": {
      "provenance": [],
      "include_colab_link": true
    }
  },
  "cells": [
    {
      "cell_type": "markdown",
      "metadata": {
        "id": "view-in-github",
        "colab_type": "text"
      },
      "source": [
        "<a href=\"https://colab.research.google.com/github/matteovar/matteovar/blob/main/IA/A2_Search_Algorithms.ipynb\" target=\"_parent\"><img src=\"https://colab.research.google.com/assets/colab-badge.svg\" alt=\"Open In Colab\"/></a>"
      ]
    },
    {
      "cell_type": "markdown",
      "metadata": {
        "id": "40b90843"
      },
      "source": [
        "<img src=\"http://meusite.mackenzie.br/rogerio/mackenzie_logo/UPM.2_horizontal_vermelho.jpg\"  width=300, align=\"right\">\n",
        "<br>\n",
        "<br>\n",
        "<br>\n",
        "<br>\n",
        "<br>\n",
        "\n",
        "# **Search Algorithms**\n",
        "---\n"
      ]
    },
    {
      "cell_type": "code",
      "metadata": {
        "id": "rYx9D4GZA5o9",
        "cellView": "form"
      },
      "source": [
        "#@title **Identificação do Grupo**\n",
        "\n",
        "#@markdown Integrantes do Grupo, nome completo em orgem alfabética (*informe \\<RA\\>,\\<nome\\>*)\n",
        "Aluno1 = '1115665, Adriana Fujita' #@param {type:\"string\"}\n",
        "Aluno2 = '1115677, Daniel Henrique' #@param {type:\"string\"}\n",
        "Aluno3 = 'None' #@param {type:\"string\"}\n",
        "Aluno4 = 'None' #@param {type:\"string\"}\n",
        "Aluno5 = 'None' #@param {type:\"string\"}\n",
        "\n"
      ],
      "execution_count": null,
      "outputs": []
    },
    {
      "cell_type": "markdown",
      "source": [
        "# **Resumo**\n",
        "\n",
        "Foram escolhidas 12 cidades entre Osasco ate Belo Horizonte com suas distancias entre si. Mostrando o Grafo das cidades, o BFS e o a busca informada Greedy."
      ],
      "metadata": {
        "id": "JlCIc2YooBW7"
      }
    },
    {
      "cell_type": "markdown",
      "source": [
        "# **Implementação**\n",
        "\n",
        "*Aqui o código da sua solução. Você deve explicar em linhas gerais o código. Para isso você pode quebrar o código em algumas partes e incluir células de texto explicativos. Não empregue para isso comentários no corpo do código, mas crie células de texto do notebook.*\n",
        "\n",
        "> ***ATENÇÃO: O código deve ser 100% executável no Colab e, portanto, não devem ser empregados arquivos locais (da sua máquina) e, se necessário, devem ser incluídos o install de novas bibliotecas empregadas.***\n",
        "\n"
      ],
      "metadata": {
        "id": "FyFHbT8vygVp"
      }
    },
    {
      "cell_type": "markdown",
      "source": [
        "## **1. Grafo das cidades (2,0)**"
      ],
      "metadata": {
        "id": "FfqBeY18MU2l"
      }
    },
    {
      "cell_type": "code",
      "source": [
        "#Importa as bibliotecas necessarias\n",
        "import networkx as nx\n",
        "import matplotlib.pyplot as plt\n",
        "from collections import deque"
      ],
      "metadata": {
        "id": "m04lG0nbCfgH"
      },
      "execution_count": 5,
      "outputs": []
    },
    {
      "cell_type": "code",
      "source": [
        "cidade_comeca = 'Osasco'  #Cidade que inicial"
      ],
      "metadata": {
        "id": "nhwCTDQZCnAJ"
      },
      "execution_count": 6,
      "outputs": []
    },
    {
      "cell_type": "code",
      "source": [
        "def plottree(tree):\n",
        "    G = nx.DiGraph()\n",
        "  # Ira cria a raiz e as folhas da arvore junto com as arestas de distancia entre as cidades\n",
        "    for parent, children in tree.items():\n",
        "        for child, dist in children.items():\n",
        "            G.add_edge(parent, child, weight=dist)\n",
        "\n",
        "\n",
        "    pos = nx.bfs_layout(G, cidade_comeca, align='horizontal')#ira fazer o alinhamento horizontal das cidades conforme a cidade inicial\n",
        "    labels = nx.get_edge_attributes(G, 'weight') # pega o peso das arestas\n",
        "    nx.draw(G, pos, with_labels=True, arrows=True, node_size=2000, node_color='lightblue', font_size=10, font_weight='bold') #Faz as conexoes\n",
        "    nx.draw_networkx_edge_labels(G, pos, edge_labels=labels)\n",
        "    plt.show()#exibe o grafo"
      ],
      "metadata": {
        "id": "47WSkdIDxpjM"
      },
      "execution_count": 31,
      "outputs": []
    },
    {
      "cell_type": "code",
      "source": [
        "#Cidades escolhidas\n",
        "cidades = {\n",
        "    'Guarulhos': {'Osasco': 30, 'Barueri': 30, 'Cotia': 40, 'Itapevi': 50, 'Jandira': 50, 'Carapicuíba': 35, 'Sorocaba': 90, 'Ibiúna': 70, 'Itu': 90, 'Campinas': 100, 'Valinhos': 110, 'Belo Horizonte': 590},\n",
        "    'Osasco': {'Guarulhos': 30, 'Barueri': 10},\n",
        "    'Barueri': {'Guarulhos': 30, 'Cotia': 20},\n",
        "    'Cotia': {'Barueri': 20, 'Itapevi': 10},\n",
        "    'Itapevi': {'Cotia': 10, 'Jandira': 10},\n",
        "    'Jandira': {'Itapevi': 10},\n",
        "    'Carapicuíba': {'Guarulhos': 35, 'Sorocaba': 60},\n",
        "    'Sorocaba': {'Guarulhos': 90, 'Carapicuíba': 60, 'Ibiúna': 30},\n",
        "    'Ibiúna': {'Sorocaba': 30, 'Itu': 30},\n",
        "    'Itu': {'Ibiúna': 30, 'Campinas': 50},\n",
        "    'Campinas': {'Guarulhos': 100, 'Itu': 50, 'Valinhos': 20, 'Belo Horizonte': 500},\n",
        "    'Valinhos': {'Guarulhos': 110, 'Campinas': 20, 'Belo Horizonte': 510},\n",
        "    'Belo Horizonte': {'Guarulhos': 590, 'Campinas': 500, 'Valinhos': 510}\n",
        "}"
      ],
      "metadata": {
        "id": "WH4MfzxOC_KM"
      },
      "execution_count": 29,
      "outputs": []
    },
    {
      "cell_type": "markdown",
      "source": [
        "> ## **1.1. Resultados (Testes)**\n",
        "\n",
        "*Um ou mais testes da solução devem ser apresentados ao final. Comente em células de texto explicativas os testes e os seus resultados.*"
      ],
      "metadata": {
        "id": "vO9xbwBTJDQ7"
      }
    },
    {
      "cell_type": "code",
      "source": [
        "plottree(cidades) #Mostra as cidades"
      ],
      "metadata": {
        "id": "mVf_l2YTJPXY",
        "colab": {
          "base_uri": "https://localhost:8080/",
          "height": 516
        },
        "outputId": "9b566d6d-0050-47f4-9dee-7d3507ce3567"
      },
      "execution_count": 32,
      "outputs": [
        {
          "output_type": "display_data",
          "data": {
            "text/plain": [
              "<Figure size 640x480 with 1 Axes>"
            ],
            "image/png": "[encoded data removed]"
          },
          "metadata": {}
        }
      ]
    },
    {
      "cell_type": "markdown",
      "source": [
        "## **2. BFS, Breadth-First Search(2,0)**"
      ],
      "metadata": {
        "id": "6yaBdE9xMvUG"
      }
    },
    {
      "cell_type": "code",
      "source": [
        "#Funcao bfs, aonde ira fazer a travessia dos grafos.\n",
        "#Comeca do nó principal e vai conforme os nós adjacentes, apos acabar, comecar os adjacentes\n",
        "def bfs(tree, start):\n",
        "    visited = []\n",
        "    queue = deque([start])\n",
        "    path = []\n",
        "\n",
        "    while queue:\n",
        "        node = queue.popleft()\n",
        "  #Faz a verificacao de se o nó foi visitado, se foi visitado, ele sera marcado\n",
        "        if node not in visited:\n",
        "            visited.append(node)\n",
        "            path.append(node)\n",
        "\n",
        "            # Coloca na fila todos que nao foram visitados, sendo os filhos.\n",
        "            for neighbor, dist in tree.get(node, {}).items():\n",
        "                if neighbor not in visited:\n",
        "                    queue.append(neighbor)\n",
        "    return path"
      ],
      "metadata": {
        "id": "V16vzWA_MvUH"
      },
      "execution_count": 12,
      "outputs": []
    },
    {
      "cell_type": "markdown",
      "source": [
        "> ## **2.1. Resultados (Testes)**\n",
        "\n",
        "*Um ou mais testes da solução devem ser apresentados ao final. Comente em células de texto explicativas os testes e os seus resultados.*"
      ],
      "metadata": {
        "id": "G2_xtN1jMvUI"
      }
    },
    {
      "cell_type": "code",
      "source": [
        "#Chama o path com o bfs, chamando todas as cidades e comecando pela selecionada. Inicia o BFS\n",
        "path = bfs(cidades, cidade_comeca)\n",
        "print(\"Cidades visitadas:\", path)"
      ],
      "metadata": {
        "id": "S9w7b7VYMvUI",
        "colab": {
          "base_uri": "https://localhost:8080/"
        },
        "outputId": "9baf3785-7876-48dd-abe5-0952e5724b4e"
      },
      "execution_count": 13,
      "outputs": [
        {
          "output_type": "stream",
          "name": "stdout",
          "text": [
            "Cidades visitadas: ['Osasco', 'Guarulhos', 'Barueri', 'Cotia', 'Itapevi', 'Jandira', 'Carapicuíba', 'Sorocaba', 'Ibiúna', 'Itu', 'Campinas', 'Valinhos', 'Belo Horizonte']\n"
          ]
        }
      ]
    },
    {
      "cell_type": "markdown",
      "source": [
        "## **3. Busca Informada (5,0)**"
      ],
      "metadata": {
        "id": "Ryo3PeXoMwFc"
      }
    },
    {
      "cell_type": "markdown",
      "source": [
        "*Indique aqui em um texto o algoritmo de Busca Informada escolhido e o motivo da escolha.*"
      ],
      "metadata": {
        "id": "De9VgoNINL4c"
      }
    },
    {
      "cell_type": "code",
      "source": [
        "#Inicia as bibliotecas\n",
        "import networkx as nx\n",
        "import matplotlib.pyplot as plt"
      ],
      "metadata": {
        "id": "39FwjR_uMwFd"
      },
      "execution_count": 14,
      "outputs": []
    },
    {
      "cell_type": "code",
      "source": [
        "#Seta uma variavel para a cidade inicial e a cidade final\n",
        "cidade_comeca = 'Osasco'\n",
        "cidade_destino = 'Belo Horizonte'\n"
      ],
      "metadata": {
        "id": "LR6cXi14D3Oy"
      },
      "execution_count": 15,
      "outputs": []
    },
    {
      "cell_type": "code",
      "source": [
        "def plottree(tree, path):\n",
        "    G = nx.DiGraph()\n",
        " # Ira cria a raiz e as folhas da arvore junto com as arestas de distancia entre as cidades\n",
        "    for parent, children in tree.items():\n",
        "        for child, dist in children.items():\n",
        "            G.add_edge(parent, child, weight=dist)\n",
        "\n",
        "    pos = nx.spring_layout(G)#ira fazer a criacao dos vertices\n",
        "    labels = nx.get_edge_attributes(G, 'weight')# pega o peso das arestas\n",
        "    nx.draw(G, pos, with_labels=True, arrows=True, node_size=2000, node_color='lightblue', font_size=10, font_weight='bold') #Faz as conexoes\n",
        "    nx.draw_networkx_edge_labels(G, pos, edge_labels=labels)\n",
        "\n",
        "    path_edges = list(zip(path, path[1:])) #Constroi uma linha de arestas conforme o caminho\n",
        "    nx.draw_networkx_edges(G, pos, edgelist=path_edges, edge_color='red', width=2.5)# Caminho sera feito na cor vermelha\n",
        "\n",
        "    plt.show()#exibe o grafo\n",
        ""
      ],
      "metadata": {
        "id": "qWJQRMmQD4kB"
      },
      "execution_count": 23,
      "outputs": []
    },
    {
      "cell_type": "code",
      "source": [
        "#Lista de cidades conectadas e suas distancias\n",
        "cidades = {\n",
        "    'Guarulhos': {'Osasco': 30, 'Barueri': 30, 'Cotia': 40, 'Itapevi': 50, 'Jandira': 50, 'Carapicuíba': 35, 'Sorocaba': 90, 'Ibiúna': 70, 'Itu': 90, 'Campinas': 100, 'Valinhos': 110, 'Belo Horizonte': 590},\n",
        "    'Osasco': {'Guarulhos': 30, 'Barueri': 10},\n",
        "    'Barueri': {'Guarulhos': 30, 'Cotia': 20},\n",
        "    'Cotia': {'Barueri': 20, 'Itapevi': 10},\n",
        "    'Itapevi': {'Cotia': 10, 'Jandira': 10},\n",
        "    'Jandira': {'Itapevi': 10},\n",
        "    'Carapicuíba': {'Guarulhos': 35, 'Sorocaba': 60},\n",
        "    'Sorocaba': {'Guarulhos': 90, 'Carapicuíba': 60, 'Ibiúna': 30},\n",
        "    'Ibiúna': {'Sorocaba': 30, 'Itu': 30},\n",
        "    'Itu': {'Ibiúna': 30, 'Campinas': 50},\n",
        "    'Campinas': {'Guarulhos': 100, 'Itu': 50, 'Valinhos': 20, 'Belo Horizonte': 500},\n",
        "    'Valinhos': {'Guarulhos': 110, 'Campinas': 20, 'Belo Horizonte': 510},\n",
        "    'Belo Horizonte': {'Guarulhos': 590, 'Campinas': 500, 'Valinhos': 510}\n",
        "}"
      ],
      "metadata": {
        "id": "lJRvzCkpEFD1"
      },
      "execution_count": 24,
      "outputs": []
    },
    {
      "cell_type": "code",
      "source": [
        "#Funcao de busca gulosa\n",
        "def greedy_search(tree, start, goal): #Chama a arvore, inicial e o destino\n",
        "    visited = set() #Armzaenas os vertices visitados\n",
        "    path = [] #Cria um caminho\n",
        "    current = start\n",
        "  #Enquanto o atual nao for o destino final, ele fica em loop\n",
        "    while current != goal:\n",
        "      #Ira colocar o atual na lista de caminho e visitado\n",
        "        path.append(current)\n",
        "        visited.add(current)\n",
        "\n",
        "        #Vizinhos pegam em qual estado atual ele esta\n",
        "        neighbors = tree.get(current, {})\n",
        "\n",
        "\n",
        "        #Se o caminho nao conseguir chegar no final, da erro\n",
        "        if not neighbors:\n",
        "            print(\"Caminho não encontrado.\")\n",
        "            return path\n",
        "\n",
        "\n",
        "        #Escolhe o vizinho com menor peso, evita escolher se ja foi visitado\n",
        "        next_city = min((city for city in neighbors if city not in visited),\n",
        "                        key=lambda city: neighbors[city],\n",
        "                        default=None)\n",
        "        #Se ja passo pelo caminho e esta como NONE, ira mandar essa mensagem\n",
        "        if next_city is None:\n",
        "            print(\"Não foi possível chegar ao destino.\")\n",
        "            return path\n",
        "\n",
        "        #Atualiza o atual para o proximo nó\n",
        "        current = next_city\n",
        "\n",
        "    path.append(goal)\n",
        "    return path\n"
      ],
      "metadata": {
        "id": "kqYInBHgENgO"
      },
      "execution_count": 25,
      "outputs": []
    },
    {
      "cell_type": "markdown",
      "source": [
        "> ## **3.1. Resultados (Testes)**\n",
        "\n",
        "*Um ou mais testes da solução devem ser apresentados ao final. Comente em células de texto explicativas os testes e os seus resultados.*"
      ],
      "metadata": {
        "id": "WxOx8CikMwFe"
      }
    },
    {
      "cell_type": "code",
      "source": [
        "#Chama a funcao para criar o grafo e ver o greedy\n",
        "path = greedy_search(cidades, cidade_comeca, cidade_destino)\n",
        "print(\"Caminho encontrado:\", path)\n",
        "plottree(cidades, path)"
      ],
      "metadata": {
        "id": "kZgIdUM0MwFf",
        "colab": {
          "base_uri": "https://localhost:8080/",
          "height": 551
        },
        "outputId": "40964b88-622a-40fb-a4f0-73f071d69d66"
      },
      "execution_count": 22,
      "outputs": [
        {
          "output_type": "stream",
          "name": "stdout",
          "text": [
            "Não foi possível chegar ao destino.\n",
            "Caminho encontrado: ['Osasco', 'Barueri', 'Cotia', 'Itapevi', 'Jandira']\n"
          ]
        },
        {
          "output_type": "display_data",
          "data": {
            "text/plain": [
              "<Figure size 640x480 with 1 Axes>"
            ],
            "image/png": "[encoded data removed]"
          },
          "metadata": {}
        }
      ]
    },
    {
      "cell_type": "markdown",
      "source": [
        "# **Referências**\n",
        "\n",
        "Este é um item obrigatório. Inclua aqui o as referências, fontes, ou bibliografia e sites/bibliotecas empregadas em formato ABNT.\n",
        "\n",
        "Fontes:\n",
        "BFS:  https://www.ime.usp.br/~pf/algoritmos_para_grafos/aulas/bfs.html?utm_source=chatgpt.com\n",
        "\n",
        "https://pt.khanacademy.org/computing/computer-science/algorithms/breadth-first-search/a/breadth-first-search-and-its-uses?utm_source=chatgpt.com\n",
        "\n",
        "Greedy:\n",
        "https://www.ime.usp.br/~pf/analise_de_algoritmos/aulas/guloso.html\n",
        "\n",
        "https://pt.stackoverflow.com/questions/103681/o-que-%C3%A9-um-algoritmo-guloso"
      ],
      "metadata": {
        "id": "7LtXrRFr4hg3"
      }
    },
    {
      "cell_type": "markdown",
      "metadata": {
        "id": "8crUBC3IQ3U_"
      },
      "source": [
        "---"
      ]
    },
    {
      "cell_type": "code",
      "metadata": {
        "id": "BluFtfHuCGzm",
        "cellView": "form"
      },
      "source": [
        "#@title **Avaliação**\n",
        "Resumo = 10 #@param {type:\"slider\", min:0, max:10, step:1}\n",
        "\n",
        "Grafo = 9 #@param {type:\"slider\", min:0, max:10, step:1}\n",
        "\n",
        "BFS = 6 #@param {type:\"slider\", min:0, max:10, step:1}\n",
        "\n",
        "Busca_Informada = 8 #@param {type:\"slider\", min:0, max:10, step:1}\n",
        "\n",
        "Referencias = 7 #@param {type:\"slider\", min:0, max:10, step:1}\n",
        "\n",
        "Geral = 7 #@param {type:\"slider\", min:0, max:10, step:1}\n",
        "\n",
        "\n",
        "\n",
        "\n",
        "\n",
        "\n"
      ],
      "execution_count": null,
      "outputs": []
    },
    {
      "cell_type": "code",
      "metadata": {
        "colab": {
          "base_uri": "https://localhost:8080/",
          "height": 160
        },
        "id": "2Gqw7hUZHyle",
        "cellView": "form",
        "outputId": "ec8f2df6-a121-4a2c-9972-e6a8f38b9bf7"
      },
      "source": [
        "#@title **Nota Final**\n",
        "\n",
        "nota = Resumo + 2*Grafo + 3*BFS + 5*Busca_Informada + Referencias + Geral\n",
        "\n",
        "nota = nota / 13\n",
        "\n",
        "print(f'Nota final do trabalho {nota :.1f}')\n",
        "\n",
        "import numpy as np\n",
        "import pandas as pd\n",
        "\n",
        "alunos = pd.DataFrame()\n",
        "\n",
        "lista_tia = []\n",
        "lista_nome = []\n",
        "\n",
        "for i in range(1,6):\n",
        "  exec(\"if Aluno\" + str(i) + \" !='None':  lista = Aluno\" + str(i) + \".split(','); lista_tia.append(lista[0]); lista_nome.append(lista[1].upper())\")\n",
        "\n",
        "alunos['tia'] = lista_tia\n",
        "alunos['nome'] = lista_nome\n",
        "alunos['nota'] = np.round(nota,1)\n",
        "print()\n",
        "display(alunos)"
      ],
      "execution_count": null,
      "outputs": [
        {
          "output_type": "stream",
          "name": "stdout",
          "text": [
            "Nota final do trabalho 7.7\n",
            "\n"
          ]
        },
        {
          "output_type": "display_data",
          "data": {
            "text/plain": [
              "       tia              nome  nota\n",
              "0  1115665    ADRIANA FUJITA   7.7\n",
              "1  1115677   DANIEL HENRIQUE   7.7"
            ],
            "text/html": [
              "\n",
              "  <div id=\"df-c02535b9-79d8-490e-a9b1-f1d7f4a1be14\" class=\"colab-df-container\">\n",
              "    <div>\n",
              "<style scoped>\n",
              "    .dataframe tbody tr th:only-of-type {\n",
              "        vertical-align: middle;\n",
              "    }\n",
              "\n",
              "    .dataframe tbody tr th {\n",
              "        vertical-align: top;\n",
              "    }\n",
              "\n",
              "    .dataframe thead th {\n",
              "        text-align: right;\n",
              "    }\n",
              "</style>\n",
              "<table border=\"1\" class=\"dataframe\">\n",
              "  <thead>\n",
              "    <tr style=\"text-align: right;\">\n",
              "      <th></th>\n",
              "      <th>tia</th>\n",
              "      <th>nome</th>\n",
              "      <th>nota</th>\n",
              "    </tr>\n",
              "  </thead>\n",
              "  <tbody>\n",
              "    <tr>\n",
              "      <th>0</th>\n",
              "      <td>1115665</td>\n",
              "      <td>ADRIANA FUJITA</td>\n",
              "      <td>7.7</td>\n",
              "    </tr>\n",
              "    <tr>\n",
              "      <th>1</th>\n",
              "      <td>1115677</td>\n",
              "      <td>DANIEL HENRIQUE</td>\n",
              "      <td>7.7</td>\n",
              "    </tr>\n",
              "  </tbody>\n",
              "</table>\n",
              "</div>\n",
              "    <div class=\"colab-df-buttons\">\n",
              "\n",
              "  <div class=\"colab-df-container\">\n",
              "    <button class=\"colab-df-convert\" onclick=\"convertToInteractive('df-c02535b9-79d8-490e-a9b1-f1d7f4a1be14')\"\n",
              "            title=\"Convert this dataframe to an interactive table.\"\n",
              "            style=\"display:none;\">\n",
              "\n",
              "  <svg xmlns=\"http://www.w3.org/2000/svg\" height=\"24px\" viewBox=\"0 -960 960 960\">\n",
              "    <path d=\"M120-120v-720h720v720H120Zm60-500h600v-160H180v160Zm220 220h160v-160H400v160Zm0 220h160v-160H400v160ZM180-400h160v-160H180v160Zm440 0h160v-160H620v160ZM180-180h160v-160H180v160Zm440 0h160v-160H620v160Z\"/>\n",
              "  </svg>\n",
              "    </button>\n",
              "\n",
              "  <style>\n",
              "    .colab-df-container {\n",
              "      display:flex;\n",
              "      gap: 12px;\n",
              "    }\n",
              "\n",
              "    .colab-df-convert {\n",
              "      background-color: #E8F0FE;\n",
              "      border: none;\n",
              "      border-radius: 50%;\n",
              "      cursor: pointer;\n",
              "      display: none;\n",
              "      fill: #1967D2;\n",
              "      height: 32px;\n",
              "      padding: 0 0 0 0;\n",
              "      width: 32px;\n",
              "    }\n",
              "\n",
              "    .colab-df-convert:hover {\n",
              "      background-color: #E2EBFA;\n",
              "      box-shadow: 0px 1px 2px rgba(60, 64, 67, 0.3), 0px 1px 3px 1px rgba(60, 64, 67, 0.15);\n",
              "      fill: #174EA6;\n",
              "    }\n",
              "\n",
              "    .colab-df-buttons div {\n",
              "      margin-bottom: 4px;\n",
              "    }\n",
              "\n",
              "    [theme=dark] .colab-df-convert {\n",
              "      background-color: #3B4455;\n",
              "      fill: #D2E3FC;\n",
              "    }\n",
              "\n",
              "    [theme=dark] .colab-df-convert:hover {\n",
              "      background-color: #434B5C;\n",
              "      box-shadow: 0px 1px 3px 1px rgba(0, 0, 0, 0.15);\n",
              "      filter: drop-shadow(0px 1px 2px rgba(0, 0, 0, 0.3));\n",
              "      fill: #FFFFFF;\n",
              "    }\n",
              "  </style>\n",
              "\n",
              "    <script>\n",
              "      const buttonEl =\n",
              "        document.querySelector('#df-c02535b9-79d8-490e-a9b1-f1d7f4a1be14 button.colab-df-convert');\n",
              "      buttonEl.style.display =\n",
              "        google.colab.kernel.accessAllowed ? 'block' : 'none';\n",
              "\n",
              "      async function convertToInteractive(key) {\n",
              "        const element = document.querySelector('#df-c02535b9-79d8-490e-a9b1-f1d7f4a1be14');\n",
              "        const dataTable =\n",
              "          await google.colab.kernel.invokeFunction('convertToInteractive',\n",
              "                                                    [key], {});\n",
              "        if (!dataTable) return;\n",
              "\n",
              "        const docLinkHtml = 'Like what you see? Visit the ' +\n",
              "          '<a target=\"_blank\" href=https://colab.research.google.com/notebooks/data_table.ipynb>data table notebook</a>'\n",
              "          + ' to learn more about interactive tables.';\n",
              "        element.innerHTML = '';\n",
              "        dataTable['output_type'] = 'display_data';\n",
              "        await google.colab.output.renderOutput(dataTable, element);\n",
              "        const docLink = document.createElement('div');\n",
              "        docLink.innerHTML = docLinkHtml;\n",
              "        element.appendChild(docLink);\n",
              "      }\n",
              "    </script>\n",
              "  </div>\n",
              "\n",
              "\n",
              "<div id=\"df-d549a65d-dcca-4332-a206-81d4cc5dfa4f\">\n",
              "  <button class=\"colab-df-quickchart\" onclick=\"quickchart('df-d549a65d-dcca-4332-a206-81d4cc5dfa4f')\"\n",
              "            title=\"Suggest charts\"\n",
              "            style=\"display:none;\">\n",
              "\n",
              "<svg xmlns=\"http://www.w3.org/2000/svg\" height=\"24px\"viewBox=\"0 0 24 24\"\n",
              "     width=\"24px\">\n",
              "    <g>\n",
              "        <path d=\"M19 3H5c-1.1 0-2 .9-2 2v14c0 1.1.9 2 2 2h14c1.1 0 2-.9 2-2V5c0-1.1-.9-2-2-2zM9 17H7v-7h2v7zm4 0h-2V7h2v10zm4 0h-2v-4h2v4z\"/>\n",
              "    </g>\n",
              "</svg>\n",
              "  </button>\n",
              "\n",
              "<style>\n",
              "  .colab-df-quickchart {\n",
              "      --bg-color: #E8F0FE;\n",
              "      --fill-color: #1967D2;\n",
              "      --hover-bg-color: #E2EBFA;\n",
              "      --hover-fill-color: #174EA6;\n",
              "      --disabled-fill-color: #AAA;\n",
              "      --disabled-bg-color: #DDD;\n",
              "  }\n",
              "\n",
              "  [theme=dark] .colab-df-quickchart {\n",
              "      --bg-color: #3B4455;\n",
              "      --fill-color: #D2E3FC;\n",
              "      --hover-bg-color: #434B5C;\n",
              "      --hover-fill-color: #FFFFFF;\n",
              "      --disabled-bg-color: #3B4455;\n",
              "      --disabled-fill-color: #666;\n",
              "  }\n",
              "\n",
              "  .colab-df-quickchart {\n",
              "    background-color: var(--bg-color);\n",
              "    border: none;\n",
              "    border-radius: 50%;\n",
              "    cursor: pointer;\n",
              "    display: none;\n",
              "    fill: var(--fill-color);\n",
              "    height: 32px;\n",
              "    padding: 0;\n",
              "    width: 32px;\n",
              "  }\n",
              "\n",
              "  .colab-df-quickchart:hover {\n",
              "    background-color: var(--hover-bg-color);\n",
              "    box-shadow: 0 1px 2px rgba(60, 64, 67, 0.3), 0 1px 3px 1px rgba(60, 64, 67, 0.15);\n",
              "    fill: var(--button-hover-fill-color);\n",
              "  }\n",
              "\n",
              "  .colab-df-quickchart-complete:disabled,\n",
              "  .colab-df-quickchart-complete:disabled:hover {\n",
              "    background-color: var(--disabled-bg-color);\n",
              "    fill: var(--disabled-fill-color);\n",
              "    box-shadow: none;\n",
              "  }\n",
              "\n",
              "  .colab-df-spinner {\n",
              "    border: 2px solid var(--fill-color);\n",
              "    border-color: transparent;\n",
              "    border-bottom-color: var(--fill-color);\n",
              "    animation:\n",
              "      spin 1s steps(1) infinite;\n",
              "  }\n",
              "\n",
              "  @keyframes spin {\n",
              "    0% {\n",
              "      border-color: transparent;\n",
              "      border-bottom-color: var(--fill-color);\n",
              "      border-left-color: var(--fill-color);\n",
              "    }\n",
              "    20% {\n",
              "      border-color: transparent;\n",
              "      border-left-color: var(--fill-color);\n",
              "      border-top-color: var(--fill-color);\n",
              "    }\n",
              "    30% {\n",
              "      border-color: transparent;\n",
              "      border-left-color: var(--fill-color);\n",
              "      border-top-color: var(--fill-color);\n",
              "      border-right-color: var(--fill-color);\n",
              "    }\n",
              "    40% {\n",
              "      border-color: transparent;\n",
              "      border-right-color: var(--fill-color);\n",
              "      border-top-color: var(--fill-color);\n",
              "    }\n",
              "    60% {\n",
              "      border-color: transparent;\n",
              "      border-right-color: var(--fill-color);\n",
              "    }\n",
              "    80% {\n",
              "      border-color: transparent;\n",
              "      border-right-color: var(--fill-color);\n",
              "      border-bottom-color: var(--fill-color);\n",
              "    }\n",
              "    90% {\n",
              "      border-color: transparent;\n",
              "      border-bottom-color: var(--fill-color);\n",
              "    }\n",
              "  }\n",
              "</style>\n",
              "\n",
              "  <script>\n",
              "    async function quickchart(key) {\n",
              "      const quickchartButtonEl =\n",
              "        document.querySelector('#' + key + ' button');\n",
              "      quickchartButtonEl.disabled = true;  // To prevent multiple clicks.\n",
              "      quickchartButtonEl.classList.add('colab-df-spinner');\n",
              "      try {\n",
              "        const charts = await google.colab.kernel.invokeFunction(\n",
              "            'suggestCharts', [key], {});\n",
              "      } catch (error) {\n",
              "        console.error('Error during call to suggestCharts:', error);\n",
              "      }\n",
              "      quickchartButtonEl.classList.remove('colab-df-spinner');\n",
              "      quickchartButtonEl.classList.add('colab-df-quickchart-complete');\n",
              "    }\n",
              "    (() => {\n",
              "      let quickchartButtonEl =\n",
              "        document.querySelector('#df-d549a65d-dcca-4332-a206-81d4cc5dfa4f button');\n",
              "      quickchartButtonEl.style.display =\n",
              "        google.colab.kernel.accessAllowed ? 'block' : 'none';\n",
              "    })();\n",
              "  </script>\n",
              "</div>\n",
              "\n",
              "  <div id=\"id_767f25c7-3015-4af7-9d5b-1f12893fb16b\">\n",
              "    <style>\n",
              "      .colab-df-generate {\n",
              "        background-color: #E8F0FE;\n",
              "        border: none;\n",
              "        border-radius: 50%;\n",
              "        cursor: pointer;\n",
              "        display: none;\n",
              "        fill: #1967D2;\n",
              "        height: 32px;\n",
              "        padding: 0 0 0 0;\n",
              "        width: 32px;\n",
              "      }\n",
              "\n",
              "      .colab-df-generate:hover {\n",
              "        background-color: #E2EBFA;\n",
              "        box-shadow: 0px 1px 2px rgba(60, 64, 67, 0.3), 0px 1px 3px 1px rgba(60, 64, 67, 0.15);\n",
              "        fill: #174EA6;\n",
              "      }\n",
              "\n",
              "      [theme=dark] .colab-df-generate {\n",
              "        background-color: #3B4455;\n",
              "        fill: #D2E3FC;\n",
              "      }\n",
              "\n",
              "      [theme=dark] .colab-df-generate:hover {\n",
              "        background-color: #434B5C;\n",
              "        box-shadow: 0px 1px 3px 1px rgba(0, 0, 0, 0.15);\n",
              "        filter: drop-shadow(0px 1px 2px rgba(0, 0, 0, 0.3));\n",
              "        fill: #FFFFFF;\n",
              "      }\n",
              "    </style>\n",
              "    <button class=\"colab-df-generate\" onclick=\"generateWithVariable('alunos')\"\n",
              "            title=\"Generate code using this dataframe.\"\n",
              "            style=\"display:none;\">\n",
              "\n",
              "  <svg xmlns=\"http://www.w3.org/2000/svg\" height=\"24px\"viewBox=\"0 0 24 24\"\n",
              "       width=\"24px\">\n",
              "    <path d=\"M7,19H8.4L18.45,9,17,7.55,7,17.6ZM5,21V16.75L18.45,3.32a2,2,0,0,1,2.83,0l1.4,1.43a1.91,1.91,0,0,1,.58,1.4,1.91,1.91,0,0,1-.58,1.4L9.25,21ZM18.45,9,17,7.55Zm-12,3A5.31,5.31,0,0,0,4.9,8.1,5.31,5.31,0,0,0,1,6.5,5.31,5.31,0,0,0,4.9,4.9,5.31,5.31,0,0,0,6.5,1,5.31,5.31,0,0,0,8.1,4.9,5.31,5.31,0,0,0,12,6.5,5.46,5.46,0,0,0,6.5,12Z\"/>\n",
              "  </svg>\n",
              "    </button>\n",
              "    <script>\n",
              "      (() => {\n",
              "      const buttonEl =\n",
              "        document.querySelector('#id_767f25c7-3015-4af7-9d5b-1f12893fb16b button.colab-df-generate');\n",
              "      buttonEl.style.display =\n",
              "        google.colab.kernel.accessAllowed ? 'block' : 'none';\n",
              "\n",
              "      buttonEl.onclick = () => {\n",
              "        google.colab.notebook.generateWithVariable('alunos');\n",
              "      }\n",
              "      })();\n",
              "    </script>\n",
              "  </div>\n",
              "\n",
              "    </div>\n",
              "  </div>\n"
            ],
            "application/vnd.google.colaboratory.intrinsic+json": {
              "type": "dataframe",
              "variable_name": "alunos",
              "summary": "{\n  \"name\": \"alunos\",\n  \"rows\": 2,\n  \"fields\": [\n    {\n      \"column\": \"tia\",\n      \"properties\": {\n        \"dtype\": \"string\",\n        \"num_unique_values\": 2,\n        \"samples\": [\n          \"1115677\",\n          \"1115665\"\n        ],\n        \"semantic_type\": \"\",\n        \"description\": \"\"\n      }\n    },\n    {\n      \"column\": \"nome\",\n      \"properties\": {\n        \"dtype\": \"string\",\n        \"num_unique_values\": 2,\n        \"samples\": [\n          \" DANIEL HENRIQUE\",\n          \" ADRIANA FUJITA\"\n        ],\n        \"semantic_type\": \"\",\n        \"description\": \"\"\n      }\n    },\n    {\n      \"column\": \"nota\",\n      \"properties\": {\n        \"dtype\": \"number\",\n        \"std\": 0.0,\n        \"min\": 7.7,\n        \"max\": 7.7,\n        \"num_unique_values\": 1,\n        \"samples\": [\n          7.7\n        ],\n        \"semantic_type\": \"\",\n        \"description\": \"\"\n      }\n    }\n  ]\n}"
            }
          },
          "metadata": {}
        }
      ]
    }
  ]
}